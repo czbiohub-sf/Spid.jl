{
 "cells": [
  {
   "cell_type": "markdown",
   "id": "a60417f9",
   "metadata": {},
   "source": [
    "# Example notebook showcasing investigation of a small outbreak of Vancomycin Resistant Enterococcus (VRE) in patient samples\n",
    "\n",
    "Data has previously gone through QC and anlysis via the CZID pipeline https://chanzuckerberg.zendesk.com/hc/en-us/articles/360050326971-Guide-Data-Analysis "
   ]
  },
  {
   "cell_type": "markdown",
   "id": "3e3f3236",
   "metadata": {},
   "source": [
    "## Preliminary steps & getting files ready for analysis"
   ]
  },
  {
   "cell_type": "code",
   "execution_count": 18,
   "id": "5d95dd54",
   "metadata": {},
   "outputs": [],
   "source": [
    "import os\n",
    "import re\n",
    "import pandas as pd\n",
    "import numpy as np\n",
    "import seaborn as sns\n",
    "import matplotlib.pyplot as plt"
   ]
  },
  {
   "cell_type": "markdown",
   "id": "402679bf",
   "metadata": {},
   "source": [
    "### This is where the directory is mounted at (/data)"
   ]
  },
  {
   "cell_type": "code",
   "execution_count": 2,
   "id": "039b0416",
   "metadata": {},
   "outputs": [
    {
     "data": {
      "text/plain": [
       "'/data/RR141'"
      ]
     },
     "execution_count": 2,
     "metadata": {},
     "output_type": "execute_result"
    }
   ],
   "source": [
    "pwd"
   ]
  },
  {
   "cell_type": "code",
   "execution_count": 1,
   "id": "0d5e0731",
   "metadata": {},
   "outputs": [
    {
     "name": "stdout",
     "output_type": "stream",
     "text": [
      "/data/RR141/example_spid_notebook\n"
     ]
    }
   ],
   "source": [
    "cd example_spid_notebook/"
   ]
  },
  {
   "cell_type": "code",
   "execution_count": 3,
   "id": "51f81d3f",
   "metadata": {},
   "outputs": [
    {
     "name": "stdout",
     "output_type": "stream",
     "text": [
      "\u001b[0m\u001b[01;32mS1_126562_reads_nh_Enterococc.fasta\u001b[0m*  \u001b[01;32mS4_126565_reads_nh_Enterococc.fasta\u001b[0m*\r\n",
      "\u001b[01;32mS2_126563_reads_nh_Enterococc.fasta\u001b[0m*  \u001b[01;32mS5_126566_reads_nh_Enterococc.fasta\u001b[0m*\r\n",
      "\u001b[01;32mS3_126564_reads_nh_Enterococc.fasta\u001b[0m*\r\n"
     ]
    }
   ],
   "source": [
    "ls"
   ]
  },
  {
   "cell_type": "code",
   "execution_count": 5,
   "id": "4aec8681",
   "metadata": {},
   "outputs": [
    {
     "name": "stdout",
     "output_type": "stream",
     "text": [
      ">family_nr:-300:family_nt:81852:genus_nr:-200:genus_nt:1350:species_nr:-100:species_nt:1352:NR::NT:AB038464.1:M05295:525:000000000-JVN69:1:2108:27360:19769/1\r\n",
      "CCTAAATTAATGTTTTTAGACTATTATTCTAACATTCATTAATTTAGGGGTGATTAGATTATGAAACATTTAAAAATTTTG\r\n",
      ">family_nr:-300:family_nt:81852:genus_nr:-200:genus_nt:1350:species_nr:-100:species_nt:1352:NR::NT:AB038464.1:M05295:525:000000000-JVN69:1:2108:27360:19769/2\r\n",
      "CAAAATTTTTAAATGTTTCATAATCTAATCACCCCTAAATTAATGAATGTTAGAATAATAGTCTAAAAACATTAATTTAGG\r\n",
      ">family_nr:-300:family_nt:81852:genus_nr:-200:genus_nt:1350:species_nr:-100:species_nt:1352:NR::NT:AB038464.1:M05295:525:000000000-JVN69:1:2113:16994:25885/1\r\n",
      "TCATTAAATTTCAAAAAACAATTCCTTCTTAAAAGTGATTAAATTCTTATTCAGGAATTATTTTGCTACGTTTCAAGAAGGAATTG\r\n",
      ">family_nr:-300:family_nt:81852:genus_nr:-200:genus_nt:1350:species_nr:-100:species_nt:1352:NR::NT:AB038464.1:M05295:525:000000000-JVN69:1:2113:16994:25885/2\r\n",
      "CAATTCCTTCTTGAAACGTAGCAAAATAATTCCTGAATAAGAATTTAATCACTTTTAAGAAGGAATTGTTTTTTGAAATTTAATGA\r\n",
      ">family_nr:-300:family_nt:81852:genus_nr:-200:genus_nt:1350:species_nr:-100:species_nt:1352:NR::NT:AB038522.1:M05295:525:000000000-JVN69:1:1107:15213:3791/1\r\n",
      "CAACAATTTGCGCAATCTATATTTCAAATTGTTGAAAGAAGAAAGCCAAAACGATGAGTTGACGAATCATTTAC\r\n"
     ]
    }
   ],
   "source": [
    "!head S1_126562_reads_nh_Enterococc.fasta "
   ]
  },
  {
   "cell_type": "code",
   "execution_count": 6,
   "id": "d01f4fd7",
   "metadata": {},
   "outputs": [
    {
     "data": {
      "text/plain": [
       "['S1_126562_reads_nh_Enterococc.fasta',\n",
       " 'S2_126563_reads_nh_Enterococc.fasta',\n",
       " 'S3_126564_reads_nh_Enterococc.fasta',\n",
       " 'S4_126565_reads_nh_Enterococc.fasta',\n",
       " 'S5_126566_reads_nh_Enterococc.fasta']"
      ]
     },
     "execution_count": 6,
     "metadata": {},
     "output_type": "execute_result"
    }
   ],
   "source": [
    "sample_fastas = !(ls S*)\n",
    "sample_fastas"
   ]
  },
  {
   "cell_type": "code",
   "execution_count": 8,
   "id": "32af7bf6",
   "metadata": {},
   "outputs": [
    {
     "data": {
      "text/plain": [
       "['S1', 'S2', 'S3', 'S4', 'S5']"
      ]
     },
     "execution_count": 8,
     "metadata": {},
     "output_type": "execute_result"
    }
   ],
   "source": [
    "names = []\n",
    "for file in sample_fastas:\n",
    "    sample_name_only = '_'.join(file.split('_')[:-4])\n",
    "    names.append(sample_name_only)\n",
    "names"
   ]
  },
  {
   "cell_type": "code",
   "execution_count": 9,
   "id": "5c5cfbe3",
   "metadata": {},
   "outputs": [
    {
     "data": {
      "text/plain": [
       "{'S1': 'S1_126562_reads_nh_Enterococc.fasta',\n",
       " 'S2': 'S2_126563_reads_nh_Enterococc.fasta',\n",
       " 'S3': 'S3_126564_reads_nh_Enterococc.fasta',\n",
       " 'S4': 'S4_126565_reads_nh_Enterococc.fasta',\n",
       " 'S5': 'S5_126566_reads_nh_Enterococc.fasta'}"
      ]
     },
     "execution_count": 9,
     "metadata": {},
     "output_type": "execute_result"
    }
   ],
   "source": [
    "sample_names_paths = dict(zip(names, sample_fastas))\n",
    "sample_names_paths"
   ]
  },
  {
   "cell_type": "markdown",
   "id": "ebbb03f6",
   "metadata": {},
   "source": [
    "### Running the first step (short_read_alignments)"
   ]
  },
  {
   "cell_type": "code",
   "execution_count": 10,
   "id": "7daebdb3",
   "metadata": {},
   "outputs": [],
   "source": [
    "mkdir -p short_read_alignments"
   ]
  },
  {
   "cell_type": "code",
   "execution_count": 11,
   "id": "3728216c",
   "metadata": {},
   "outputs": [
    {
     "name": "stdout",
     "output_type": "stream",
     "text": [
      "total 2629633\r\n",
      "-rwxr-xr-x 1 5130 5000 535366568 Nov 22 22:23 \u001b[0m\u001b[01;32mS1_126562_reads_nh_Enterococc.fasta\u001b[0m*\r\n",
      "-rwxr-xr-x 1 5130 5000 540081199 Nov 22 22:23 \u001b[01;32mS2_126563_reads_nh_Enterococc.fasta\u001b[0m*\r\n",
      "-rwxr-xr-x 1 5130 5000 550944683 Nov 22 22:23 \u001b[01;32mS3_126564_reads_nh_Enterococc.fasta\u001b[0m*\r\n",
      "-rwxr-xr-x 1 5130 5000 533651549 Nov 22 22:23 \u001b[01;32mS4_126565_reads_nh_Enterococc.fasta\u001b[0m*\r\n",
      "-rwxr-xr-x 1 5130 5000 532564690 Nov 22 22:23 \u001b[01;32mS5_126566_reads_nh_Enterococc.fasta\u001b[0m*\r\n",
      "drwxr-xr-x 2 root root      4096 Nov 22 23:52 \u001b[01;34mshort_read_alignments\u001b[0m/\r\n"
     ]
    }
   ],
   "source": [
    "ls -ltr"
   ]
  },
  {
   "cell_type": "markdown",
   "id": "644fffdd",
   "metadata": {},
   "source": [
    "**note the reference we're using here is called LR135331.fasta** This reference is selected based on the CZID pipeline."
   ]
  },
  {
   "cell_type": "code",
   "execution_count": 13,
   "id": "95ce03b0",
   "metadata": {},
   "outputs": [],
   "source": [
    "align_short_read_commands = [f\"'spid.jl align_short_reads --threads 16 short_read_alignments/{names} LR135331.fasta {fasta_files}'\" for names, fasta_files in sample_names_paths.items()]\n"
   ]
  },
  {
   "cell_type": "code",
   "execution_count": 14,
   "id": "0e99d27a",
   "metadata": {},
   "outputs": [
    {
     "data": {
      "text/plain": [
       "[\"'spid.jl align_short_reads --threads 16 short_read_alignments/S1 LR135331.fasta S1_126562_reads_nh_Enterococc.fasta'\",\n",
       " \"'spid.jl align_short_reads --threads 16 short_read_alignments/S2 LR135331.fasta S2_126563_reads_nh_Enterococc.fasta'\",\n",
       " \"'spid.jl align_short_reads --threads 16 short_read_alignments/S3 LR135331.fasta S3_126564_reads_nh_Enterococc.fasta'\",\n",
       " \"'spid.jl align_short_reads --threads 16 short_read_alignments/S4 LR135331.fasta S4_126565_reads_nh_Enterococc.fasta'\",\n",
       " \"'spid.jl align_short_reads --threads 16 short_read_alignments/S5 LR135331.fasta S5_126566_reads_nh_Enterococc.fasta'\"]"
      ]
     },
     "execution_count": 14,
     "metadata": {},
     "output_type": "execute_result"
    }
   ],
   "source": [
    "align_short_read_commands"
   ]
  },
  {
   "cell_type": "code",
   "execution_count": 19,
   "id": "6c0e0b34",
   "metadata": {},
   "outputs": [
    {
     "name": "stderr",
     "output_type": "stream",
     "text": [
      "[M::mm_idx_gen::0.092*1.02] collected minimizers\n",
      "[M::mm_idx_gen::0.120*3.49] sorted minimizers\n",
      "[M::main::0.120*3.48] loaded/built the index for 1 target sequence(s)\n",
      "[M::mm_mapopt_update::0.120*3.48] mid_occ = 1000\n",
      "[M::mm_idx_stat] kmer size: 21; skip: 11; is_hpc: 0; #seq: 1\n",
      "[M::mm_idx_stat::0.133*3.25] distinct minimizers: 445122 (98.04% are singletons); average occurrences: 1.081; average spacing: 5.990\n",
      "[M::worker_pipeline::2.817*14.01] mapped 487664 sequences\n",
      "[M::worker_pipeline::4.316*15.16] mapped 488603 sequences\n",
      "[M::worker_pipeline::5.219*14.99] mapped 489458 sequences\n",
      "[M::worker_pipeline::11.685*6.75] mapped 472776 sequences\n",
      "[M::main] Version: 2.17-r941\n",
      "[M::main] CMD: minimap2 -ax sr -t 16 LR135331.fasta S5_126566_reads_nh_Enterococc.fasta\n",
      "[M::main] Real time: 11.720 sec; CPU: 78.959 sec; Peak RSS: 0.645 GB\n",
      "[bam_sort_core] merging from 1 files and 1 in-memory blocks...\n",
      "[mpileup] 1 samples in 1 input files\n",
      "┌ Warning: `@add_arg_table` is deprecated, use `@add_arg_table!` instead\n",
      "└ @ ArgParse :-1\n",
      "┌ Warning: samtools=1.0.10.0. samtools=1.9 recommended.\n",
      "└ @ Spid /opt/Spid.jl/src/Pileup2Consensus.jl:40\n",
      "[M::mm_idx_gen::0.106*1.01] collected minimizers\n",
      "[M::mm_idx_gen::0.134*3.02] sorted minimizers\n",
      "[M::main::0.134*3.02] loaded/built the index for 1 target sequence(s)\n",
      "[M::mm_mapopt_update::0.134*3.02] mid_occ = 1000\n",
      "[M::mm_idx_stat] kmer size: 21; skip: 11; is_hpc: 0; #seq: 1\n",
      "[M::mm_idx_stat::0.143*2.89] distinct minimizers: 445122 (98.04% are singletons); average occurrences: 1.081; average spacing: 5.990\n",
      "[M::worker_pipeline::4.482*14.45] mapped 498617 sequences\n",
      "[M::worker_pipeline::5.953*14.59] mapped 499698 sequences\n",
      "[M::worker_pipeline::6.639*13.53] mapped 499945 sequences\n",
      "[M::worker_pipeline::14.198*6.38] mapped 466247 sequences\n",
      "[M::main] Version: 2.17-r941\n",
      "[M::main] CMD: minimap2 -ax sr -t 16 LR135331.fasta S1_126562_reads_nh_Enterococc.fasta\n",
      "[M::main] Real time: 14.229 sec; CPU: 90.679 sec; Peak RSS: 0.687 GB\n",
      "[bam_sort_core] merging from 1 files and 1 in-memory blocks...\n",
      "[mpileup] 1 samples in 1 input files\n",
      "┌ Warning: `@add_arg_table` is deprecated, use `@add_arg_table!` instead\n",
      "└ @ ArgParse :-1\n",
      "┌ Warning: samtools=1.0.10.0. samtools=1.9 recommended.\n",
      "└ @ Spid /opt/Spid.jl/src/Pileup2Consensus.jl:40\n",
      "[M::mm_idx_gen::0.104*1.01] collected minimizers\n",
      "[M::mm_idx_gen::0.133*3.32] sorted minimizers\n",
      "[M::main::0.133*3.32] loaded/built the index for 1 target sequence(s)\n",
      "[M::mm_mapopt_update::0.133*3.32] mid_occ = 1000\n",
      "[M::mm_idx_stat] kmer size: 21; skip: 11; is_hpc: 0; #seq: 1\n",
      "[M::mm_idx_stat::0.141*3.18] distinct minimizers: 445122 (98.04% are singletons); average occurrences: 1.081; average spacing: 5.990\n",
      "[M::worker_pipeline::4.848*14.76] mapped 495284 sequences\n",
      "[M::worker_pipeline::6.470*15.38] mapped 495741 sequences\n",
      "[M::worker_pipeline::7.580*14.53] mapped 494535 sequences\n",
      "[M::worker_pipeline::14.896*7.45] mapped 468623 sequences\n",
      "[M::main] Version: 2.17-r941\n",
      "[M::main] CMD: minimap2 -ax sr -t 16 LR135331.fasta S4_126565_reads_nh_Enterococc.fasta\n",
      "[M::main] Real time: 14.919 sec; CPU: 111.043 sec; Peak RSS: 0.699 GB\n",
      "[bam_sort_core] merging from 1 files and 1 in-memory blocks...\n",
      "[mpileup] 1 samples in 1 input files\n",
      "┌ Warning: `@add_arg_table` is deprecated, use `@add_arg_table!` instead\n",
      "└ @ ArgParse :-1\n",
      "┌ Warning: samtools=1.0.10.0. samtools=1.9 recommended.\n",
      "└ @ Spid /opt/Spid.jl/src/Pileup2Consensus.jl:40\n",
      "[M::mm_idx_gen::0.093*1.01] collected minimizers\n",
      "[M::mm_idx_gen::0.120*3.30] sorted minimizers\n",
      "[M::main::0.120*3.30] loaded/built the index for 1 target sequence(s)\n",
      "[M::mm_mapopt_update::0.120*3.30] mid_occ = 1000\n",
      "[M::mm_idx_stat] kmer size: 21; skip: 11; is_hpc: 0; #seq: 1\n",
      "[M::mm_idx_stat::0.129*3.14] distinct minimizers: 445122 (98.04% are singletons); average occurrences: 1.081; average spacing: 5.990\n",
      "[M::worker_pipeline::3.055*14.18] mapped 469214 sequences\n",
      "[M::worker_pipeline::4.991*15.20] mapped 468391 sequences\n",
      "[M::worker_pipeline::6.686*15.60] mapped 465528 sequences\n",
      "[M::worker_pipeline::14.148*7.44] mapped 465867 sequences\n",
      "[M::worker_pipeline::14.324*7.37] mapped 103244 sequences\n",
      "[M::main] Version: 2.17-r941\n",
      "[M::main] CMD: minimap2 -ax sr -t 16 LR135331.fasta S3_126564_reads_nh_Enterococc.fasta\n",
      "[M::main] Real time: 14.348 sec; CPU: 105.528 sec; Peak RSS: 0.630 GB\n",
      "[bam_sort_core] merging from 1 files and 1 in-memory blocks...\n",
      "[mpileup] 1 samples in 1 input files\n",
      "┌ Warning: `@add_arg_table` is deprecated, use `@add_arg_table!` instead\n",
      "└ @ ArgParse :-1\n",
      "┌ Warning: samtools=1.0.10.0. samtools=1.9 recommended.\n",
      "└ @ Spid /opt/Spid.jl/src/Pileup2Consensus.jl:40\n",
      "[M::mm_idx_gen::0.095*1.01] collected minimizers\n",
      "[M::mm_idx_gen::0.123*3.21] sorted minimizers\n",
      "[M::main::0.123*3.21] loaded/built the index for 1 target sequence(s)\n",
      "[M::mm_mapopt_update::0.123*3.21] mid_occ = 1000\n",
      "[M::mm_idx_stat] kmer size: 21; skip: 11; is_hpc: 0; #seq: 1\n",
      "[M::mm_idx_stat::0.136*3.00] distinct minimizers: 445122 (98.04% are singletons); average occurrences: 1.081; average spacing: 5.990\n",
      "[M::worker_pipeline::4.401*14.78] mapped 486132 sequences\n",
      "[M::worker_pipeline::5.665*15.35] mapped 487791 sequences\n",
      "[M::worker_pipeline::6.924*14.57] mapped 484849 sequences\n",
      "[M::worker_pipeline::14.750*6.90] mapped 486992 sequences\n",
      "[M::worker_pipeline::14.802*6.88] mapped 15855 sequences\n",
      "[M::main] Version: 2.17-r941\n",
      "[M::main] CMD: minimap2 -ax sr -t 16 LR135331.fasta S2_126563_reads_nh_Enterococc.fasta\n",
      "[M::main] Real time: 14.836 sec; CPU: 101.805 sec; Peak RSS: 0.673 GB\n",
      "[bam_sort_core] merging from 1 files and 1 in-memory blocks...\n",
      "[mpileup] 1 samples in 1 input files\n",
      "┌ Warning: `@add_arg_table` is deprecated, use `@add_arg_table!` instead\n",
      "└ @ ArgParse :-1\n",
      "┌ Warning: samtools=1.0.10.0. samtools=1.9 recommended.\n",
      "└ @ Spid /opt/Spid.jl/src/Pileup2Consensus.jl:40\n"
     ]
    },
    {
     "data": {
      "text/plain": [
       "0"
      ]
     },
     "execution_count": 19,
     "metadata": {},
     "output_type": "execute_result"
    }
   ],
   "source": [
    "os.system(f\" parallel ::: {' '.join(align_short_read_commands)}\")"
   ]
  },
  {
   "cell_type": "code",
   "execution_count": 20,
   "id": "842d3f1b",
   "metadata": {},
   "outputs": [
    {
     "name": "stdout",
     "output_type": "stream",
     "text": [
      "S1.bam      S2.bam      S3.bam      S4.bam      S5.bam\r\n",
      "S1.bam.bai  S2.bam.bai  S3.bam.bai  S4.bam.bai  S5.bam.bai\r\n",
      "S1.fa       S2.fa       S3.fa       S4.fa       S5.fa\r\n"
     ]
    }
   ],
   "source": [
    "ls short_read_alignments/"
   ]
  },
  {
   "cell_type": "markdown",
   "id": "694654b4",
   "metadata": {},
   "source": [
    "## align_assembly step if you have other references"
   ]
  },
  {
   "cell_type": "markdown",
   "id": "830954f2",
   "metadata": {},
   "source": [
    "Command format: **spid.jl align_assembly {output filename} {orig_reference} {assembly_reference}**"
   ]
  },
  {
   "cell_type": "code",
   "execution_count": 23,
   "id": "55ff16df",
   "metadata": {},
   "outputs": [],
   "source": [
    "mkdir -p align_assembly"
   ]
  },
  {
   "cell_type": "code",
   "execution_count": 24,
   "id": "3f390eac",
   "metadata": {},
   "outputs": [],
   "source": [
    "#run align_assembly step with our \"original\" reference + ref 2 and \"original\" ref + ref 3\n",
    "#Here, CP019992 and CP025425 are two other references identified in CZID and downloaded from NCBI. \n",
    "\n",
    "align_assembly_commands = [\"'spid.jl align_assembly align_assembly/Efaeciumref2 LR135331.fasta CP019992.fasta'\", \n",
    "                          \"'spid.jl align_assembly align_assembly/Efaeciumref3 LR135331.fasta CP025425.fasta'\"]"
   ]
  },
  {
   "cell_type": "code",
   "execution_count": 25,
   "id": "e5b07662",
   "metadata": {},
   "outputs": [
    {
     "data": {
      "text/plain": [
       "[\"'spid.jl align_assembly align_assembly/Efaeciumref2 LR135331.fasta CP019992.fasta'\",\n",
       " \"'spid.jl align_assembly align_assembly/Efaeciumref3 LR135331.fasta CP025425.fasta'\"]"
      ]
     },
     "execution_count": 25,
     "metadata": {},
     "output_type": "execute_result"
    }
   ],
   "source": [
    "align_assembly_commands"
   ]
  },
  {
   "cell_type": "code",
   "execution_count": 26,
   "id": "b2aa28fd",
   "metadata": {},
   "outputs": [
    {
     "name": "stderr",
     "output_type": "stream",
     "text": [
      "[M::mm_idx_gen::0.080*1.02] collected minimizers\n",
      "[M::mm_idx_gen::0.109*1.47] sorted minimizers\n",
      "[M::main::0.109*1.47] loaded/built the index for 1 target sequence(s)\n",
      "[M::mm_mapopt_update::0.118*1.44] mid_occ = 100\n",
      "[M::mm_idx_stat] kmer size: 19; skip: 19; is_hpc: 0; #seq: 1\n",
      "[M::mm_idx_stat::0.124*1.42] distinct minimizers: 266381 (98.02% are singletons); average occurrences: 1.081; average spacing: 10.008\n",
      "[M::worker_pipeline::1.274*1.03] mapped 1 sequences\n",
      "[M::main] Version: 2.17-r941\n",
      "[M::main] CMD: minimap2 -ax asm5 -t 3 LR135331.fasta CP025425.fasta\n",
      "[M::main] Real time: 1.287 sec; CPU: 1.329 sec; Peak RSS: 0.437 GB\n",
      "[mpileup] 1 samples in 1 input files\n",
      "┌ Warning: `@add_arg_table` is deprecated, use `@add_arg_table!` instead\n",
      "└ @ ArgParse :-1\n",
      "┌ Warning: samtools=1.0.10.0. samtools=1.9 recommended.\n",
      "└ @ Spid /opt/Spid.jl/src/Pileup2Consensus.jl:40\n",
      "[M::mm_idx_gen::0.080*1.02] collected minimizers\n",
      "[M::mm_idx_gen::0.109*1.47] sorted minimizers\n",
      "[M::main::0.109*1.47] loaded/built the index for 1 target sequence(s)\n",
      "[M::mm_mapopt_update::0.118*1.44] mid_occ = 100\n",
      "[M::mm_idx_stat] kmer size: 19; skip: 19; is_hpc: 0; #seq: 1\n",
      "[M::mm_idx_stat::0.125*1.41] distinct minimizers: 266381 (98.02% are singletons); average occurrences: 1.081; average spacing: 10.008\n",
      "[M::worker_pipeline::1.549*1.03] mapped 1 sequences\n",
      "[M::main] Version: 2.17-r941\n",
      "[M::main] CMD: minimap2 -ax asm5 -t 3 LR135331.fasta CP019992.fasta\n",
      "[M::main] Real time: 1.560 sec; CPU: 1.600 sec; Peak RSS: 0.438 GB\n",
      "[mpileup] 1 samples in 1 input files\n",
      "┌ Warning: `@add_arg_table` is deprecated, use `@add_arg_table!` instead\n",
      "└ @ ArgParse :-1\n",
      "┌ Warning: samtools=1.0.10.0. samtools=1.9 recommended.\n",
      "└ @ Spid /opt/Spid.jl/src/Pileup2Consensus.jl:40\n"
     ]
    },
    {
     "data": {
      "text/plain": [
       "0"
      ]
     },
     "execution_count": 26,
     "metadata": {},
     "output_type": "execute_result"
    }
   ],
   "source": [
    "os.system(f\" parallel ::: {' '.join(align_assembly_commands)}\")"
   ]
  },
  {
   "cell_type": "code",
   "execution_count": 27,
   "id": "1b6405c3",
   "metadata": {},
   "outputs": [
    {
     "name": "stdout",
     "output_type": "stream",
     "text": [
      "total 9089\r\n",
      "-rw-r--r-- 1 root root 1612491 Nov 30 21:11 Efaeciumref3.bam\r\n",
      "-rw-r--r-- 1 root root    1624 Nov 30 21:11 Efaeciumref3.bam.bai\r\n",
      "-rw-r--r-- 1 root root 1732095 Nov 30 21:11 Efaeciumref2.bam\r\n",
      "-rw-r--r-- 1 root root    1760 Nov 30 21:11 Efaeciumref2.bam.bai\r\n",
      "-rw-r--r-- 1 root root 2923549 Nov 30 21:11 Efaeciumref3.fa\r\n",
      "-rw-r--r-- 1 root root 2923549 Nov 30 21:11 Efaeciumref2.fa\r\n"
     ]
    }
   ],
   "source": [
    "ls -ltr align_assembly/"
   ]
  },
  {
   "cell_type": "markdown",
   "id": "0098c361",
   "metadata": {},
   "source": [
    "## Last step - merge_alignments"
   ]
  },
  {
   "cell_type": "markdown",
   "id": "ac0f4f5d",
   "metadata": {},
   "source": [
    "**now, to do merge_alignments, we have to combine all the fastas we want to merge together, \n",
    "from short_read_alignments folder and the align_assembly folder**"
   ]
  },
  {
   "cell_type": "code",
   "execution_count": 28,
   "id": "b6e104d2",
   "metadata": {},
   "outputs": [],
   "source": [
    "!mkdir -p files_to_do_merge_alignments"
   ]
  },
  {
   "cell_type": "code",
   "execution_count": 30,
   "id": "cdb22b7e",
   "metadata": {},
   "outputs": [
    {
     "name": "stdout",
     "output_type": "stream",
     "text": [
      "\u001b[0m\u001b[01;32mCP019992.fasta\u001b[0m*                       \u001b[01;32mS3_126564_reads_nh_Enterococc.fasta\u001b[0m*\r\n",
      "\u001b[01;32mCP025425.fasta\u001b[0m*                       \u001b[01;32mS4_126565_reads_nh_Enterococc.fasta\u001b[0m*\r\n",
      "\u001b[01;32mLR135331.fasta\u001b[0m*                       \u001b[01;32mS5_126566_reads_nh_Enterococc.fasta\u001b[0m*\r\n",
      "LR135331.fasta.fai                    \u001b[01;34malign_assembly\u001b[0m/\r\n",
      "\u001b[01;32mS1_126562_reads_nh_Enterococc.fasta\u001b[0m*  \u001b[01;34mfiles_to_do_merge_alignments\u001b[0m/\r\n",
      "\u001b[01;32mS2_126563_reads_nh_Enterococc.fasta\u001b[0m*  \u001b[01;34mshort_read_alignments\u001b[0m/\r\n"
     ]
    }
   ],
   "source": [
    "ls"
   ]
  },
  {
   "cell_type": "code",
   "execution_count": 31,
   "id": "ebe5a2ed",
   "metadata": {},
   "outputs": [],
   "source": [
    "!cp align_assembly/E*.fa files_to_do_merge_alignments/"
   ]
  },
  {
   "cell_type": "code",
   "execution_count": 32,
   "id": "1f12e1d9",
   "metadata": {},
   "outputs": [
    {
     "name": "stdout",
     "output_type": "stream",
     "text": [
      "Efaeciumref2.fa  Efaeciumref3.fa\r\n"
     ]
    }
   ],
   "source": [
    "ls files_to_do_merge_alignments/"
   ]
  },
  {
   "cell_type": "code",
   "execution_count": 33,
   "id": "0fc85dc3",
   "metadata": {},
   "outputs": [],
   "source": [
    "!cp short_read_alignments/*.fa files_to_do_merge_alignments/"
   ]
  },
  {
   "cell_type": "code",
   "execution_count": 34,
   "id": "64b89d58",
   "metadata": {},
   "outputs": [
    {
     "name": "stdout",
     "output_type": "stream",
     "text": [
      "Efaeciumref2.fa  Efaeciumref3.fa  S1.fa  S2.fa  S3.fa  S4.fa  S5.fa\r\n"
     ]
    }
   ],
   "source": [
    "ls files_to_do_merge_alignments/"
   ]
  },
  {
   "cell_type": "code",
   "execution_count": 35,
   "id": "257dd7ee",
   "metadata": {},
   "outputs": [
    {
     "data": {
      "text/plain": [
       "['files_to_do_merge_alignments/Efaeciumref2.fa',\n",
       " 'files_to_do_merge_alignments/Efaeciumref3.fa',\n",
       " 'files_to_do_merge_alignments/S1.fa',\n",
       " 'files_to_do_merge_alignments/S2.fa',\n",
       " 'files_to_do_merge_alignments/S3.fa',\n",
       " 'files_to_do_merge_alignments/S4.fa',\n",
       " 'files_to_do_merge_alignments/S5.fa']"
      ]
     },
     "execution_count": 35,
     "metadata": {},
     "output_type": "execute_result"
    }
   ],
   "source": [
    "files_for_merge = !(ls files_to_do_merge_alignments/*.fa)\n",
    "files_for_merge"
   ]
  },
  {
   "cell_type": "code",
   "execution_count": 36,
   "id": "0b0037ce",
   "metadata": {},
   "outputs": [
    {
     "data": {
      "text/plain": [
       "{'files_to_do_merge_alignments/Efaeciumref2.fa files_to_do_merge_alignments/Efaeciumref3.fa files_to_do_merge_alignments/S1.fa files_to_do_merge_alignments/S2.fa files_to_do_merge_alignments/S3.fa files_to_do_merge_alignments/S4.fa files_to_do_merge_alignments/S5.fa'}"
      ]
     },
     "execution_count": 36,
     "metadata": {},
     "output_type": "execute_result"
    }
   ],
   "source": [
    "{' '.join([f'{fasta_files}' for fasta_files in files_for_merge])}\n"
   ]
  },
  {
   "cell_type": "markdown",
   "id": "a8cb6617",
   "metadata": {},
   "source": [
    "**Here, \"vre_samples\" is the name of subsequent output files, including the snp matrix**"
   ]
  },
  {
   "cell_type": "code",
   "execution_count": 37,
   "id": "a24ecc8e",
   "metadata": {},
   "outputs": [
    {
     "name": "stderr",
     "output_type": "stream",
     "text": [
      "┌ Warning: `@add_arg_table` is deprecated, use `@add_arg_table!` instead\n",
      "└ @ ArgParse :-1\n"
     ]
    },
    {
     "data": {
      "text/plain": [
       "0"
      ]
     },
     "execution_count": 37,
     "metadata": {},
     "output_type": "execute_result"
    }
   ],
   "source": [
    "os.system(f\" spid.jl merge_alignments vre_samples LR135331.fasta {' '.join([f'{fasta_files}' for fasta_files in files_for_merge])}\")\n",
    "\n",
    "\n"
   ]
  },
  {
   "cell_type": "code",
   "execution_count": 38,
   "id": "b8375a63",
   "metadata": {},
   "outputs": [
    {
     "name": "stdout",
     "output_type": "stream",
     "text": [
      "total 2678979\r\n",
      "-rwxr-xr-x 1 5130 5000 535366568 Nov 22 22:23 \u001b[0m\u001b[01;32mS1_126562_reads_nh_Enterococc.fasta\u001b[0m*\r\n",
      "-rwxr-xr-x 1 5130 5000 540081199 Nov 22 22:23 \u001b[01;32mS2_126563_reads_nh_Enterococc.fasta\u001b[0m*\r\n",
      "-rwxr-xr-x 1 5130 5000 550944683 Nov 22 22:23 \u001b[01;32mS3_126564_reads_nh_Enterococc.fasta\u001b[0m*\r\n",
      "-rwxr-xr-x 1 5130 5000 533651549 Nov 22 22:23 \u001b[01;32mS4_126565_reads_nh_Enterococc.fasta\u001b[0m*\r\n",
      "-rwxr-xr-x 1 5130 5000 532564690 Nov 22 22:23 \u001b[01;32mS5_126566_reads_nh_Enterococc.fasta\u001b[0m*\r\n",
      "-rwxr-xr-x 1 5130 5000   2923583 Nov 22 23:53 \u001b[01;32mLR135331.fasta\u001b[0m*\r\n",
      "-rw-r--r-- 1 root root        28 Nov 22 23:58 LR135331.fasta.fai\r\n",
      "drwxr-xr-x 2 root root      4096 Nov 22 23:58 \u001b[01;34mshort_read_alignments\u001b[0m/\r\n",
      "-rwxr-xr-x 1 5130 5000   3033083 Nov 30 21:08 \u001b[01;32mCP019992.fasta\u001b[0m*\r\n",
      "-rwxr-xr-x 1 5130 5000   2812075 Nov 30 21:08 \u001b[01;32mCP025425.fasta\u001b[0m*\r\n",
      "drwxr-xr-x 2 root root      4096 Nov 30 21:11 \u001b[01;34malign_assembly\u001b[0m/\r\n",
      "drwxr-xr-x 2 root root      4096 Nov 30 21:16 \u001b[01;34mfiles_to_do_merge_alignments\u001b[0m/\r\n",
      "-rw-r--r-- 1 root root  23388354 Nov 30 21:19 vre_samples.fa\r\n",
      "-rw-r--r-- 1 root root       754 Nov 30 21:20 vre_samples.fa.pairwise_diffs.csv\r\n",
      "-rw-r--r-- 1 root root    118618 Nov 30 21:20 vre_samples.variantsOnly.fa\r\n",
      "-rw-r--r-- 1 root root  17990634 Nov 30 21:20 vre_samples.core.fa\r\n",
      "-rw-r--r-- 1 root root       754 Nov 30 21:20 vre_samples.core.fa.pairwise_diffs.csv\r\n",
      "-rw-r--r-- 1 root root     67458 Nov 30 21:20 vre_samples.core.variantsOnly.fa\r\n"
     ]
    }
   ],
   "source": [
    "ls -ltr"
   ]
  },
  {
   "cell_type": "markdown",
   "id": "50e9f310",
   "metadata": {},
   "source": [
    "## Looking at outputs"
   ]
  },
  {
   "cell_type": "code",
   "execution_count": 39,
   "id": "d47815f6",
   "metadata": {},
   "outputs": [
    {
     "name": "stdout",
     "output_type": "stream",
     "text": [
      "Contig1,Contig2,SharedGenomeLen,NumDiffs\r\n",
      "LR135331,Efaeciumref2,2466967,3931\r\n",
      "LR135331,Efaeciumref3,2441344,5927\r\n",
      "LR135331,S1,2597116,4903\r\n",
      "LR135331,S2,2552142,5634\r\n",
      "LR135331,S3,2678498,6305\r\n",
      "LR135331,S4,2731998,3100\r\n",
      "LR135331,S5,2544836,7033\r\n",
      "Efaeciumref2,Efaeciumref3,2352507,5029\r\n",
      "Efaeciumref2,S1,2419593,208\r\n"
     ]
    }
   ],
   "source": [
    "!head vre_samples.fa.pairwise_diffs.csv"
   ]
  },
  {
   "cell_type": "code",
   "execution_count": 41,
   "id": "7d39a496",
   "metadata": {},
   "outputs": [
    {
     "data": {
      "text/html": [
       "<div>\n",
       "<style scoped>\n",
       "    .dataframe tbody tr th:only-of-type {\n",
       "        vertical-align: middle;\n",
       "    }\n",
       "\n",
       "    .dataframe tbody tr th {\n",
       "        vertical-align: top;\n",
       "    }\n",
       "\n",
       "    .dataframe thead th {\n",
       "        text-align: right;\n",
       "    }\n",
       "</style>\n",
       "<table border=\"1\" class=\"dataframe\">\n",
       "  <thead>\n",
       "    <tr style=\"text-align: right;\">\n",
       "      <th></th>\n",
       "      <th>Contig1</th>\n",
       "      <th>Contig2</th>\n",
       "      <th>SharedGenomeLen</th>\n",
       "      <th>NumDiffs</th>\n",
       "    </tr>\n",
       "  </thead>\n",
       "  <tbody>\n",
       "    <tr>\n",
       "      <th>0</th>\n",
       "      <td>LR135331</td>\n",
       "      <td>Efaeciumref2</td>\n",
       "      <td>2466967</td>\n",
       "      <td>3931</td>\n",
       "    </tr>\n",
       "    <tr>\n",
       "      <th>1</th>\n",
       "      <td>LR135331</td>\n",
       "      <td>Efaeciumref3</td>\n",
       "      <td>2441344</td>\n",
       "      <td>5927</td>\n",
       "    </tr>\n",
       "    <tr>\n",
       "      <th>2</th>\n",
       "      <td>LR135331</td>\n",
       "      <td>S1</td>\n",
       "      <td>2597116</td>\n",
       "      <td>4903</td>\n",
       "    </tr>\n",
       "    <tr>\n",
       "      <th>3</th>\n",
       "      <td>LR135331</td>\n",
       "      <td>S2</td>\n",
       "      <td>2552142</td>\n",
       "      <td>5634</td>\n",
       "    </tr>\n",
       "    <tr>\n",
       "      <th>4</th>\n",
       "      <td>LR135331</td>\n",
       "      <td>S3</td>\n",
       "      <td>2678498</td>\n",
       "      <td>6305</td>\n",
       "    </tr>\n",
       "    <tr>\n",
       "      <th>5</th>\n",
       "      <td>LR135331</td>\n",
       "      <td>S4</td>\n",
       "      <td>2731998</td>\n",
       "      <td>3100</td>\n",
       "    </tr>\n",
       "    <tr>\n",
       "      <th>6</th>\n",
       "      <td>LR135331</td>\n",
       "      <td>S5</td>\n",
       "      <td>2544836</td>\n",
       "      <td>7033</td>\n",
       "    </tr>\n",
       "    <tr>\n",
       "      <th>7</th>\n",
       "      <td>Efaeciumref2</td>\n",
       "      <td>Efaeciumref3</td>\n",
       "      <td>2352507</td>\n",
       "      <td>5029</td>\n",
       "    </tr>\n",
       "    <tr>\n",
       "      <th>8</th>\n",
       "      <td>Efaeciumref2</td>\n",
       "      <td>S1</td>\n",
       "      <td>2419593</td>\n",
       "      <td>208</td>\n",
       "    </tr>\n",
       "    <tr>\n",
       "      <th>9</th>\n",
       "      <td>Efaeciumref2</td>\n",
       "      <td>S2</td>\n",
       "      <td>2353174</td>\n",
       "      <td>4025</td>\n",
       "    </tr>\n",
       "    <tr>\n",
       "      <th>10</th>\n",
       "      <td>Efaeciumref2</td>\n",
       "      <td>S3</td>\n",
       "      <td>2446895</td>\n",
       "      <td>3102</td>\n",
       "    </tr>\n",
       "    <tr>\n",
       "      <th>11</th>\n",
       "      <td>Efaeciumref2</td>\n",
       "      <td>S4</td>\n",
       "      <td>2451703</td>\n",
       "      <td>2464</td>\n",
       "    </tr>\n",
       "    <tr>\n",
       "      <th>12</th>\n",
       "      <td>Efaeciumref2</td>\n",
       "      <td>S5</td>\n",
       "      <td>2347046</td>\n",
       "      <td>4110</td>\n",
       "    </tr>\n",
       "    <tr>\n",
       "      <th>13</th>\n",
       "      <td>Efaeciumref3</td>\n",
       "      <td>S1</td>\n",
       "      <td>2374783</td>\n",
       "      <td>5345</td>\n",
       "    </tr>\n",
       "    <tr>\n",
       "      <th>14</th>\n",
       "      <td>Efaeciumref3</td>\n",
       "      <td>S2</td>\n",
       "      <td>2335568</td>\n",
       "      <td>4451</td>\n",
       "    </tr>\n",
       "    <tr>\n",
       "      <th>15</th>\n",
       "      <td>Efaeciumref3</td>\n",
       "      <td>S3</td>\n",
       "      <td>2419427</td>\n",
       "      <td>4199</td>\n",
       "    </tr>\n",
       "    <tr>\n",
       "      <th>16</th>\n",
       "      <td>Efaeciumref3</td>\n",
       "      <td>S4</td>\n",
       "      <td>2419267</td>\n",
       "      <td>5429</td>\n",
       "    </tr>\n",
       "    <tr>\n",
       "      <th>17</th>\n",
       "      <td>Efaeciumref3</td>\n",
       "      <td>S5</td>\n",
       "      <td>2357070</td>\n",
       "      <td>4855</td>\n",
       "    </tr>\n",
       "    <tr>\n",
       "      <th>18</th>\n",
       "      <td>S1</td>\n",
       "      <td>S2</td>\n",
       "      <td>2463572</td>\n",
       "      <td>4265</td>\n",
       "    </tr>\n",
       "    <tr>\n",
       "      <th>19</th>\n",
       "      <td>S1</td>\n",
       "      <td>S3</td>\n",
       "      <td>2562385</td>\n",
       "      <td>3111</td>\n",
       "    </tr>\n",
       "    <tr>\n",
       "      <th>20</th>\n",
       "      <td>S1</td>\n",
       "      <td>S4</td>\n",
       "      <td>2556596</td>\n",
       "      <td>2629</td>\n",
       "    </tr>\n",
       "    <tr>\n",
       "      <th>21</th>\n",
       "      <td>S1</td>\n",
       "      <td>S5</td>\n",
       "      <td>2480730</td>\n",
       "      <td>4405</td>\n",
       "    </tr>\n",
       "    <tr>\n",
       "      <th>22</th>\n",
       "      <td>S2</td>\n",
       "      <td>S3</td>\n",
       "      <td>2519387</td>\n",
       "      <td>4782</td>\n",
       "    </tr>\n",
       "    <tr>\n",
       "      <th>23</th>\n",
       "      <td>S2</td>\n",
       "      <td>S4</td>\n",
       "      <td>2506451</td>\n",
       "      <td>4392</td>\n",
       "    </tr>\n",
       "    <tr>\n",
       "      <th>24</th>\n",
       "      <td>S2</td>\n",
       "      <td>S5</td>\n",
       "      <td>2447189</td>\n",
       "      <td>5796</td>\n",
       "    </tr>\n",
       "    <tr>\n",
       "      <th>25</th>\n",
       "      <td>S3</td>\n",
       "      <td>S4</td>\n",
       "      <td>2637267</td>\n",
       "      <td>4348</td>\n",
       "    </tr>\n",
       "    <tr>\n",
       "      <th>26</th>\n",
       "      <td>S3</td>\n",
       "      <td>S5</td>\n",
       "      <td>2508717</td>\n",
       "      <td>4956</td>\n",
       "    </tr>\n",
       "    <tr>\n",
       "      <th>27</th>\n",
       "      <td>S4</td>\n",
       "      <td>S5</td>\n",
       "      <td>2511604</td>\n",
       "      <td>4547</td>\n",
       "    </tr>\n",
       "  </tbody>\n",
       "</table>\n",
       "</div>"
      ],
      "text/plain": [
       "         Contig1       Contig2  SharedGenomeLen  NumDiffs\n",
       "0       LR135331  Efaeciumref2          2466967      3931\n",
       "1       LR135331  Efaeciumref3          2441344      5927\n",
       "2       LR135331            S1          2597116      4903\n",
       "3       LR135331            S2          2552142      5634\n",
       "4       LR135331            S3          2678498      6305\n",
       "5       LR135331            S4          2731998      3100\n",
       "6       LR135331            S5          2544836      7033\n",
       "7   Efaeciumref2  Efaeciumref3          2352507      5029\n",
       "8   Efaeciumref2            S1          2419593       208\n",
       "9   Efaeciumref2            S2          2353174      4025\n",
       "10  Efaeciumref2            S3          2446895      3102\n",
       "11  Efaeciumref2            S4          2451703      2464\n",
       "12  Efaeciumref2            S5          2347046      4110\n",
       "13  Efaeciumref3            S1          2374783      5345\n",
       "14  Efaeciumref3            S2          2335568      4451\n",
       "15  Efaeciumref3            S3          2419427      4199\n",
       "16  Efaeciumref3            S4          2419267      5429\n",
       "17  Efaeciumref3            S5          2357070      4855\n",
       "18            S1            S2          2463572      4265\n",
       "19            S1            S3          2562385      3111\n",
       "20            S1            S4          2556596      2629\n",
       "21            S1            S5          2480730      4405\n",
       "22            S2            S3          2519387      4782\n",
       "23            S2            S4          2506451      4392\n",
       "24            S2            S5          2447189      5796\n",
       "25            S3            S4          2637267      4348\n",
       "26            S3            S5          2508717      4956\n",
       "27            S4            S5          2511604      4547"
      ]
     },
     "execution_count": 41,
     "metadata": {},
     "output_type": "execute_result"
    }
   ],
   "source": [
    "pairwise_diffs = pd.read_csv('vre_samples.fa.pairwise_diffs.csv')\n",
    "pairwise_diffs"
   ]
  },
  {
   "cell_type": "code",
   "execution_count": 42,
   "id": "b0cc275d",
   "metadata": {},
   "outputs": [
    {
     "data": {
      "text/plain": [
       "(array([2., 3., 1., 0., 0., 3., 1., 3., 2., 1., 2., 2., 0., 3., 1., 0., 1.,\n",
       "        0., 0., 1., 0., 1., 0., 0., 1.]),\n",
       " array([2335568. , 2351425.2, 2367282.4, 2383139.6, 2398996.8, 2414854. ,\n",
       "        2430711.2, 2446568.4, 2462425.6, 2478282.8, 2494140. , 2509997.2,\n",
       "        2525854.4, 2541711.6, 2557568.8, 2573426. , 2589283.2, 2605140.4,\n",
       "        2620997.6, 2636854.8, 2652712. , 2668569.2, 2684426.4, 2700283.6,\n",
       "        2716140.8, 2731998. ]),\n",
       " <BarContainer object of 25 artists>)"
      ]
     },
     "execution_count": 42,
     "metadata": {},
     "output_type": "execute_result"
    },
    {
     "data": {
      "image/png": "[encoded data removed]",
      "text/plain": [
       "<Figure size 432x288 with 1 Axes>"
      ]
     },
     "metadata": {
      "needs_background": "light"
     },
     "output_type": "display_data"
    }
   ],
   "source": [
    "plt.hist(pairwise_diffs['SharedGenomeLen'], bins=25)"
   ]
  },
  {
   "cell_type": "markdown",
   "id": "5507883d",
   "metadata": {},
   "source": [
    "**Adding a column that is snps/kb (divide numdiffs/sharedgenomelen then *1000)**"
   ]
  },
  {
   "cell_type": "code",
   "execution_count": 43,
   "id": "cac6c3e4",
   "metadata": {},
   "outputs": [
    {
     "data": {
      "text/html": [
       "<div>\n",
       "<style scoped>\n",
       "    .dataframe tbody tr th:only-of-type {\n",
       "        vertical-align: middle;\n",
       "    }\n",
       "\n",
       "    .dataframe tbody tr th {\n",
       "        vertical-align: top;\n",
       "    }\n",
       "\n",
       "    .dataframe thead th {\n",
       "        text-align: right;\n",
       "    }\n",
       "</style>\n",
       "<table border=\"1\" class=\"dataframe\">\n",
       "  <thead>\n",
       "    <tr style=\"text-align: right;\">\n",
       "      <th></th>\n",
       "      <th>Contig1</th>\n",
       "      <th>Contig2</th>\n",
       "      <th>SharedGenomeLen</th>\n",
       "      <th>NumDiffs</th>\n",
       "      <th>snps/kb</th>\n",
       "    </tr>\n",
       "  </thead>\n",
       "  <tbody>\n",
       "    <tr>\n",
       "      <th>0</th>\n",
       "      <td>LR135331</td>\n",
       "      <td>Efaeciumref2</td>\n",
       "      <td>2466967</td>\n",
       "      <td>3931</td>\n",
       "      <td>1.593455</td>\n",
       "    </tr>\n",
       "    <tr>\n",
       "      <th>1</th>\n",
       "      <td>LR135331</td>\n",
       "      <td>Efaeciumref3</td>\n",
       "      <td>2441344</td>\n",
       "      <td>5927</td>\n",
       "      <td>2.427761</td>\n",
       "    </tr>\n",
       "    <tr>\n",
       "      <th>2</th>\n",
       "      <td>LR135331</td>\n",
       "      <td>S1</td>\n",
       "      <td>2597116</td>\n",
       "      <td>4903</td>\n",
       "      <td>1.887863</td>\n",
       "    </tr>\n",
       "    <tr>\n",
       "      <th>3</th>\n",
       "      <td>LR135331</td>\n",
       "      <td>S2</td>\n",
       "      <td>2552142</td>\n",
       "      <td>5634</td>\n",
       "      <td>2.207557</td>\n",
       "    </tr>\n",
       "    <tr>\n",
       "      <th>4</th>\n",
       "      <td>LR135331</td>\n",
       "      <td>S3</td>\n",
       "      <td>2678498</td>\n",
       "      <td>6305</td>\n",
       "      <td>2.353931</td>\n",
       "    </tr>\n",
       "    <tr>\n",
       "      <th>5</th>\n",
       "      <td>LR135331</td>\n",
       "      <td>S4</td>\n",
       "      <td>2731998</td>\n",
       "      <td>3100</td>\n",
       "      <td>1.134701</td>\n",
       "    </tr>\n",
       "    <tr>\n",
       "      <th>6</th>\n",
       "      <td>LR135331</td>\n",
       "      <td>S5</td>\n",
       "      <td>2544836</td>\n",
       "      <td>7033</td>\n",
       "      <td>2.763636</td>\n",
       "    </tr>\n",
       "    <tr>\n",
       "      <th>7</th>\n",
       "      <td>Efaeciumref2</td>\n",
       "      <td>Efaeciumref3</td>\n",
       "      <td>2352507</td>\n",
       "      <td>5029</td>\n",
       "      <td>2.137719</td>\n",
       "    </tr>\n",
       "    <tr>\n",
       "      <th>8</th>\n",
       "      <td>Efaeciumref2</td>\n",
       "      <td>S1</td>\n",
       "      <td>2419593</td>\n",
       "      <td>208</td>\n",
       "      <td>0.085965</td>\n",
       "    </tr>\n",
       "    <tr>\n",
       "      <th>9</th>\n",
       "      <td>Efaeciumref2</td>\n",
       "      <td>S2</td>\n",
       "      <td>2353174</td>\n",
       "      <td>4025</td>\n",
       "      <td>1.710456</td>\n",
       "    </tr>\n",
       "    <tr>\n",
       "      <th>10</th>\n",
       "      <td>Efaeciumref2</td>\n",
       "      <td>S3</td>\n",
       "      <td>2446895</td>\n",
       "      <td>3102</td>\n",
       "      <td>1.267729</td>\n",
       "    </tr>\n",
       "    <tr>\n",
       "      <th>11</th>\n",
       "      <td>Efaeciumref2</td>\n",
       "      <td>S4</td>\n",
       "      <td>2451703</td>\n",
       "      <td>2464</td>\n",
       "      <td>1.005016</td>\n",
       "    </tr>\n",
       "    <tr>\n",
       "      <th>12</th>\n",
       "      <td>Efaeciumref2</td>\n",
       "      <td>S5</td>\n",
       "      <td>2347046</td>\n",
       "      <td>4110</td>\n",
       "      <td>1.751137</td>\n",
       "    </tr>\n",
       "    <tr>\n",
       "      <th>13</th>\n",
       "      <td>Efaeciumref3</td>\n",
       "      <td>S1</td>\n",
       "      <td>2374783</td>\n",
       "      <td>5345</td>\n",
       "      <td>2.250732</td>\n",
       "    </tr>\n",
       "    <tr>\n",
       "      <th>14</th>\n",
       "      <td>Efaeciumref3</td>\n",
       "      <td>S2</td>\n",
       "      <td>2335568</td>\n",
       "      <td>4451</td>\n",
       "      <td>1.905746</td>\n",
       "    </tr>\n",
       "    <tr>\n",
       "      <th>15</th>\n",
       "      <td>Efaeciumref3</td>\n",
       "      <td>S3</td>\n",
       "      <td>2419427</td>\n",
       "      <td>4199</td>\n",
       "      <td>1.735535</td>\n",
       "    </tr>\n",
       "    <tr>\n",
       "      <th>16</th>\n",
       "      <td>Efaeciumref3</td>\n",
       "      <td>S4</td>\n",
       "      <td>2419267</td>\n",
       "      <td>5429</td>\n",
       "      <td>2.244068</td>\n",
       "    </tr>\n",
       "    <tr>\n",
       "      <th>17</th>\n",
       "      <td>Efaeciumref3</td>\n",
       "      <td>S5</td>\n",
       "      <td>2357070</td>\n",
       "      <td>4855</td>\n",
       "      <td>2.059761</td>\n",
       "    </tr>\n",
       "    <tr>\n",
       "      <th>18</th>\n",
       "      <td>S1</td>\n",
       "      <td>S2</td>\n",
       "      <td>2463572</td>\n",
       "      <td>4265</td>\n",
       "      <td>1.731226</td>\n",
       "    </tr>\n",
       "    <tr>\n",
       "      <th>19</th>\n",
       "      <td>S1</td>\n",
       "      <td>S3</td>\n",
       "      <td>2562385</td>\n",
       "      <td>3111</td>\n",
       "      <td>1.214103</td>\n",
       "    </tr>\n",
       "    <tr>\n",
       "      <th>20</th>\n",
       "      <td>S1</td>\n",
       "      <td>S4</td>\n",
       "      <td>2556596</td>\n",
       "      <td>2629</td>\n",
       "      <td>1.028320</td>\n",
       "    </tr>\n",
       "    <tr>\n",
       "      <th>21</th>\n",
       "      <td>S1</td>\n",
       "      <td>S5</td>\n",
       "      <td>2480730</td>\n",
       "      <td>4405</td>\n",
       "      <td>1.775687</td>\n",
       "    </tr>\n",
       "    <tr>\n",
       "      <th>22</th>\n",
       "      <td>S2</td>\n",
       "      <td>S3</td>\n",
       "      <td>2519387</td>\n",
       "      <td>4782</td>\n",
       "      <td>1.898081</td>\n",
       "    </tr>\n",
       "    <tr>\n",
       "      <th>23</th>\n",
       "      <td>S2</td>\n",
       "      <td>S4</td>\n",
       "      <td>2506451</td>\n",
       "      <td>4392</td>\n",
       "      <td>1.752278</td>\n",
       "    </tr>\n",
       "    <tr>\n",
       "      <th>24</th>\n",
       "      <td>S2</td>\n",
       "      <td>S5</td>\n",
       "      <td>2447189</td>\n",
       "      <td>5796</td>\n",
       "      <td>2.368432</td>\n",
       "    </tr>\n",
       "    <tr>\n",
       "      <th>25</th>\n",
       "      <td>S3</td>\n",
       "      <td>S4</td>\n",
       "      <td>2637267</td>\n",
       "      <td>4348</td>\n",
       "      <td>1.648676</td>\n",
       "    </tr>\n",
       "    <tr>\n",
       "      <th>26</th>\n",
       "      <td>S3</td>\n",
       "      <td>S5</td>\n",
       "      <td>2508717</td>\n",
       "      <td>4956</td>\n",
       "      <td>1.975512</td>\n",
       "    </tr>\n",
       "    <tr>\n",
       "      <th>27</th>\n",
       "      <td>S4</td>\n",
       "      <td>S5</td>\n",
       "      <td>2511604</td>\n",
       "      <td>4547</td>\n",
       "      <td>1.810397</td>\n",
       "    </tr>\n",
       "  </tbody>\n",
       "</table>\n",
       "</div>"
      ],
      "text/plain": [
       "         Contig1       Contig2  SharedGenomeLen  NumDiffs   snps/kb\n",
       "0       LR135331  Efaeciumref2          2466967      3931  1.593455\n",
       "1       LR135331  Efaeciumref3          2441344      5927  2.427761\n",
       "2       LR135331            S1          2597116      4903  1.887863\n",
       "3       LR135331            S2          2552142      5634  2.207557\n",
       "4       LR135331            S3          2678498      6305  2.353931\n",
       "5       LR135331            S4          2731998      3100  1.134701\n",
       "6       LR135331            S5          2544836      7033  2.763636\n",
       "7   Efaeciumref2  Efaeciumref3          2352507      5029  2.137719\n",
       "8   Efaeciumref2            S1          2419593       208  0.085965\n",
       "9   Efaeciumref2            S2          2353174      4025  1.710456\n",
       "10  Efaeciumref2            S3          2446895      3102  1.267729\n",
       "11  Efaeciumref2            S4          2451703      2464  1.005016\n",
       "12  Efaeciumref2            S5          2347046      4110  1.751137\n",
       "13  Efaeciumref3            S1          2374783      5345  2.250732\n",
       "14  Efaeciumref3            S2          2335568      4451  1.905746\n",
       "15  Efaeciumref3            S3          2419427      4199  1.735535\n",
       "16  Efaeciumref3            S4          2419267      5429  2.244068\n",
       "17  Efaeciumref3            S5          2357070      4855  2.059761\n",
       "18            S1            S2          2463572      4265  1.731226\n",
       "19            S1            S3          2562385      3111  1.214103\n",
       "20            S1            S4          2556596      2629  1.028320\n",
       "21            S1            S5          2480730      4405  1.775687\n",
       "22            S2            S3          2519387      4782  1.898081\n",
       "23            S2            S4          2506451      4392  1.752278\n",
       "24            S2            S5          2447189      5796  2.368432\n",
       "25            S3            S4          2637267      4348  1.648676\n",
       "26            S3            S5          2508717      4956  1.975512\n",
       "27            S4            S5          2511604      4547  1.810397"
      ]
     },
     "execution_count": 43,
     "metadata": {},
     "output_type": "execute_result"
    }
   ],
   "source": [
    "pairwise_diffs['snps/kb'] = pairwise_diffs['NumDiffs']/pairwise_diffs['SharedGenomeLen'] * 1000\n",
    "pairwise_diffs"
   ]
  },
  {
   "cell_type": "code",
   "execution_count": 44,
   "id": "09414723",
   "metadata": {},
   "outputs": [
    {
     "data": {
      "text/plain": [
       "(array([1., 0., 0., 0., 0., 0., 0., 0., 0., 0., 0., 0., 0., 0., 0., 0., 0.,\n",
       "        2., 0., 1., 0., 1., 1., 0., 0., 0., 0., 0., 1., 1., 3., 3., 1., 3.,\n",
       "        0., 1., 1., 0., 1., 1., 2., 0., 2., 1., 0., 0., 0., 0., 0., 1.]),\n",
       " array([0.08596487, 0.13951829, 0.19307171, 0.24662513, 0.30017855,\n",
       "        0.35373197, 0.40728539, 0.46083881, 0.51439223, 0.56794565,\n",
       "        0.62149907, 0.67505249, 0.72860591, 0.78215933, 0.83571274,\n",
       "        0.88926616, 0.94281958, 0.996373  , 1.04992642, 1.10347984,\n",
       "        1.15703326, 1.21058668, 1.2641401 , 1.31769352, 1.37124694,\n",
       "        1.42480036, 1.47835378, 1.5319072 , 1.58546062, 1.63901404,\n",
       "        1.69256746, 1.74612088, 1.7996743 , 1.85322772, 1.90678114,\n",
       "        1.96033456, 2.01388798, 2.06744139, 2.12099481, 2.17454823,\n",
       "        2.22810165, 2.28165507, 2.33520849, 2.38876191, 2.44231533,\n",
       "        2.49586875, 2.54942217, 2.60297559, 2.65652901, 2.71008243,\n",
       "        2.76363585]),\n",
       " <BarContainer object of 50 artists>)"
      ]
     },
     "execution_count": 44,
     "metadata": {},
     "output_type": "execute_result"
    },
    {
     "data": {
      "image/png": "[encoded data removed]",
      "text/plain": [
       "<Figure size 432x288 with 1 Axes>"
      ]
     },
     "metadata": {
      "needs_background": "light"
     },
     "output_type": "display_data"
    }
   ],
   "source": [
    "plt.hist(pairwise_diffs['snps/kb'],  bins=50, color='g')"
   ]
  },
  {
   "cell_type": "code",
   "execution_count": 56,
   "id": "8eabec22",
   "metadata": {},
   "outputs": [
    {
     "data": {
      "text/html": [
       "<div>\n",
       "<style scoped>\n",
       "    .dataframe tbody tr th:only-of-type {\n",
       "        vertical-align: middle;\n",
       "    }\n",
       "\n",
       "    .dataframe tbody tr th {\n",
       "        vertical-align: top;\n",
       "    }\n",
       "\n",
       "    .dataframe thead th {\n",
       "        text-align: right;\n",
       "    }\n",
       "</style>\n",
       "<table border=\"1\" class=\"dataframe\">\n",
       "  <thead>\n",
       "    <tr style=\"text-align: right;\">\n",
       "      <th>Contig2</th>\n",
       "      <th>Efaeciumref2</th>\n",
       "      <th>Efaeciumref3</th>\n",
       "      <th>S1</th>\n",
       "      <th>S2</th>\n",
       "      <th>S3</th>\n",
       "      <th>S4</th>\n",
       "      <th>S5</th>\n",
       "    </tr>\n",
       "    <tr>\n",
       "      <th>Contig1</th>\n",
       "      <th></th>\n",
       "      <th></th>\n",
       "      <th></th>\n",
       "      <th></th>\n",
       "      <th></th>\n",
       "      <th></th>\n",
       "      <th></th>\n",
       "    </tr>\n",
       "  </thead>\n",
       "  <tbody>\n",
       "    <tr>\n",
       "      <th>Efaeciumref2</th>\n",
       "      <td>NaN</td>\n",
       "      <td>2.137719</td>\n",
       "      <td>0.085965</td>\n",
       "      <td>1.710456</td>\n",
       "      <td>1.267729</td>\n",
       "      <td>1.005016</td>\n",
       "      <td>1.751137</td>\n",
       "    </tr>\n",
       "    <tr>\n",
       "      <th>Efaeciumref3</th>\n",
       "      <td>NaN</td>\n",
       "      <td>NaN</td>\n",
       "      <td>2.250732</td>\n",
       "      <td>1.905746</td>\n",
       "      <td>1.735535</td>\n",
       "      <td>2.244068</td>\n",
       "      <td>2.059761</td>\n",
       "    </tr>\n",
       "    <tr>\n",
       "      <th>LR135331</th>\n",
       "      <td>1.593455</td>\n",
       "      <td>2.427761</td>\n",
       "      <td>1.887863</td>\n",
       "      <td>2.207557</td>\n",
       "      <td>2.353931</td>\n",
       "      <td>1.134701</td>\n",
       "      <td>2.763636</td>\n",
       "    </tr>\n",
       "    <tr>\n",
       "      <th>S1</th>\n",
       "      <td>NaN</td>\n",
       "      <td>NaN</td>\n",
       "      <td>NaN</td>\n",
       "      <td>1.731226</td>\n",
       "      <td>1.214103</td>\n",
       "      <td>1.028320</td>\n",
       "      <td>1.775687</td>\n",
       "    </tr>\n",
       "    <tr>\n",
       "      <th>S2</th>\n",
       "      <td>NaN</td>\n",
       "      <td>NaN</td>\n",
       "      <td>NaN</td>\n",
       "      <td>NaN</td>\n",
       "      <td>1.898081</td>\n",
       "      <td>1.752278</td>\n",
       "      <td>2.368432</td>\n",
       "    </tr>\n",
       "    <tr>\n",
       "      <th>S3</th>\n",
       "      <td>NaN</td>\n",
       "      <td>NaN</td>\n",
       "      <td>NaN</td>\n",
       "      <td>NaN</td>\n",
       "      <td>NaN</td>\n",
       "      <td>1.648676</td>\n",
       "      <td>1.975512</td>\n",
       "    </tr>\n",
       "    <tr>\n",
       "      <th>S4</th>\n",
       "      <td>NaN</td>\n",
       "      <td>NaN</td>\n",
       "      <td>NaN</td>\n",
       "      <td>NaN</td>\n",
       "      <td>NaN</td>\n",
       "      <td>NaN</td>\n",
       "      <td>1.810397</td>\n",
       "    </tr>\n",
       "  </tbody>\n",
       "</table>\n",
       "</div>"
      ],
      "text/plain": [
       "Contig2       Efaeciumref2  Efaeciumref3        S1        S2        S3  \\\n",
       "Contig1                                                                  \n",
       "Efaeciumref2           NaN      2.137719  0.085965  1.710456  1.267729   \n",
       "Efaeciumref3           NaN           NaN  2.250732  1.905746  1.735535   \n",
       "LR135331          1.593455      2.427761  1.887863  2.207557  2.353931   \n",
       "S1                     NaN           NaN       NaN  1.731226  1.214103   \n",
       "S2                     NaN           NaN       NaN       NaN  1.898081   \n",
       "S3                     NaN           NaN       NaN       NaN       NaN   \n",
       "S4                     NaN           NaN       NaN       NaN       NaN   \n",
       "\n",
       "Contig2             S4        S5  \n",
       "Contig1                           \n",
       "Efaeciumref2  1.005016  1.751137  \n",
       "Efaeciumref3  2.244068  2.059761  \n",
       "LR135331      1.134701  2.763636  \n",
       "S1            1.028320  1.775687  \n",
       "S2            1.752278  2.368432  \n",
       "S3            1.648676  1.975512  \n",
       "S4                 NaN  1.810397  "
      ]
     },
     "execution_count": 56,
     "metadata": {},
     "output_type": "execute_result"
    }
   ],
   "source": [
    " pivoted_snps = pairwise_diffs.pivot(index=\"Contig1\", columns=\"Contig2\", values=\"snps/kb\")\n",
    "pivoted_snps"
   ]
  },
  {
   "cell_type": "markdown",
   "id": "10864f03",
   "metadata": {},
   "source": [
    "### Plotting heatmap of the snp differences between samples ###"
   ]
  },
  {
   "cell_type": "code",
   "execution_count": 57,
   "id": "a6549f3e",
   "metadata": {},
   "outputs": [
    {
     "data": {
      "text/plain": [
       "<AxesSubplot:xlabel='Contig2', ylabel='Contig1'>"
      ]
     },
     "execution_count": 57,
     "metadata": {},
     "output_type": "execute_result"
    },
    {
     "data": {
      "image/png": "[encoded data removed]",
      "text/plain": [
       "<Figure size 432x288 with 2 Axes>"
      ]
     },
     "metadata": {
      "needs_background": "light"
     },
     "output_type": "display_data"
    }
   ],
   "source": [
    "sns.heatmap(pivoted_snps, cmap='viridis')"
   ]
  },
  {
   "cell_type": "code",
   "execution_count": 59,
   "id": "bd244e20",
   "metadata": {},
   "outputs": [
    {
     "data": {
      "text/plain": [
       "<AxesSubplot:xlabel='Contig2', ylabel='Contig1'>"
      ]
     },
     "execution_count": 59,
     "metadata": {},
     "output_type": "execute_result"
    },
    {
     "data": {
      "image/png": "[encoded data removed]",
      "text/plain": [
       "<Figure size 432x288 with 2 Axes>"
      ]
     },
     "metadata": {
      "needs_background": "light"
     },
     "output_type": "display_data"
    }
   ],
   "source": [
    "sns.heatmap(pivoted_snps, fmt=\".2f\", cmap='viridis', annot=True, linewidths=0.5)"
   ]
  },
  {
   "cell_type": "code",
   "execution_count": 62,
   "id": "70bd7a99",
   "metadata": {},
   "outputs": [
    {
     "data": {
      "text/plain": [
       "<Figure size 432x288 with 0 Axes>"
      ]
     },
     "metadata": {},
     "output_type": "display_data"
    }
   ],
   "source": [
    "plt.savefig('snps_per_kb_vre_samples.png')"
   ]
  },
  {
   "cell_type": "code",
   "execution_count": null,
   "id": "1ea891b8",
   "metadata": {},
   "outputs": [],
   "source": []
  }
 ],
 "metadata": {
  "kernelspec": {
   "display_name": "Python 3 (ipykernel)",
   "language": "python",
   "name": "python3"
  },
  "language_info": {
   "codemirror_mode": {
    "name": "ipython",
    "version": 3
   },
   "file_extension": ".py",
   "mimetype": "text/x-python",
   "name": "python",
   "nbconvert_exporter": "python",
   "pygments_lexer": "ipython3",
   "version": "3.9.2"
  }
 },
 "nbformat": 4,
 "nbformat_minor": 5
}
